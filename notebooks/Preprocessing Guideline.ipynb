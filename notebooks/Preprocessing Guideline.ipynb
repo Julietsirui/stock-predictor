{
 "cells": [
  {
   "cell_type": "markdown",
   "metadata": {},
   "source": [
    "# Making sure that the preprocessing pipeline works"
   ]
  },
  {
   "cell_type": "markdown",
   "metadata": {},
   "source": [
    "### Creating the data (trying out with 1 stock only)"
   ]
  },
  {
   "cell_type": "code",
   "execution_count": 1,
   "metadata": {},
   "outputs": [],
   "source": [
    "import sys\n",
    "import os\n",
    "\n",
    "sys.path.insert(1, \"../lib/\")\n",
    "from utils import *"
   ]
  },
  {
   "cell_type": "code",
   "execution_count": 2,
   "metadata": {},
   "outputs": [],
   "source": [
    "os.chdir(\"../data/Stocks/\")"
   ]
  },
  {
   "cell_type": "code",
   "execution_count": 3,
   "metadata": {},
   "outputs": [
    {
     "name": "stdout",
     "output_type": "stream",
     "text": [
      "1  out of  1\n"
     ]
    }
   ],
   "source": [
    "df = create_data([\"a.us.txt\"])"
   ]
  },
  {
   "cell_type": "code",
   "execution_count": 4,
   "metadata": {},
   "outputs": [
    {
     "data": {
      "text/html": [
       "<div>\n",
       "<style scoped>\n",
       "    .dataframe tbody tr th:only-of-type {\n",
       "        vertical-align: middle;\n",
       "    }\n",
       "\n",
       "    .dataframe tbody tr th {\n",
       "        vertical-align: top;\n",
       "    }\n",
       "\n",
       "    .dataframe thead th {\n",
       "        text-align: right;\n",
       "    }\n",
       "</style>\n",
       "<table border=\"1\" class=\"dataframe\">\n",
       "  <thead>\n",
       "    <tr style=\"text-align: right;\">\n",
       "      <th></th>\n",
       "      <th>Date</th>\n",
       "      <th>Open</th>\n",
       "      <th>High</th>\n",
       "      <th>Low</th>\n",
       "      <th>Close</th>\n",
       "      <th>Volume</th>\n",
       "      <th>OpenInt</th>\n",
       "      <th>symbol</th>\n",
       "    </tr>\n",
       "  </thead>\n",
       "  <tbody>\n",
       "    <tr>\n",
       "      <th>0</th>\n",
       "      <td>1999-11-18</td>\n",
       "      <td>30.713</td>\n",
       "      <td>33.754</td>\n",
       "      <td>27.002</td>\n",
       "      <td>29.702</td>\n",
       "      <td>66277506</td>\n",
       "      <td>0</td>\n",
       "      <td>a.us.txt</td>\n",
       "    </tr>\n",
       "    <tr>\n",
       "      <th>1</th>\n",
       "      <td>1999-11-19</td>\n",
       "      <td>28.986</td>\n",
       "      <td>29.027</td>\n",
       "      <td>26.872</td>\n",
       "      <td>27.257</td>\n",
       "      <td>16142920</td>\n",
       "      <td>0</td>\n",
       "      <td>a.us.txt</td>\n",
       "    </tr>\n",
       "    <tr>\n",
       "      <th>2</th>\n",
       "      <td>1999-11-22</td>\n",
       "      <td>27.886</td>\n",
       "      <td>29.702</td>\n",
       "      <td>27.044</td>\n",
       "      <td>29.702</td>\n",
       "      <td>6970266</td>\n",
       "      <td>0</td>\n",
       "      <td>a.us.txt</td>\n",
       "    </tr>\n",
       "    <tr>\n",
       "      <th>3</th>\n",
       "      <td>1999-11-23</td>\n",
       "      <td>28.688</td>\n",
       "      <td>29.446</td>\n",
       "      <td>27.002</td>\n",
       "      <td>27.002</td>\n",
       "      <td>6332082</td>\n",
       "      <td>0</td>\n",
       "      <td>a.us.txt</td>\n",
       "    </tr>\n",
       "    <tr>\n",
       "      <th>4</th>\n",
       "      <td>1999-11-24</td>\n",
       "      <td>27.083</td>\n",
       "      <td>28.309</td>\n",
       "      <td>27.002</td>\n",
       "      <td>27.717</td>\n",
       "      <td>5132147</td>\n",
       "      <td>0</td>\n",
       "      <td>a.us.txt</td>\n",
       "    </tr>\n",
       "  </tbody>\n",
       "</table>\n",
       "</div>"
      ],
      "text/plain": [
       "         Date    Open    High     Low   Close    Volume  OpenInt    symbol\n",
       "0  1999-11-18  30.713  33.754  27.002  29.702  66277506        0  a.us.txt\n",
       "1  1999-11-19  28.986  29.027  26.872  27.257  16142920        0  a.us.txt\n",
       "2  1999-11-22  27.886  29.702  27.044  29.702   6970266        0  a.us.txt\n",
       "3  1999-11-23  28.688  29.446  27.002  27.002   6332082        0  a.us.txt\n",
       "4  1999-11-24  27.083  28.309  27.002  27.717   5132147        0  a.us.txt"
      ]
     },
     "execution_count": 4,
     "metadata": {},
     "output_type": "execute_result"
    }
   ],
   "source": [
    "df.head()"
   ]
  },
  {
   "cell_type": "markdown",
   "metadata": {},
   "source": [
    "### We first remove timestamp and scale it to a numpy array"
   ]
  },
  {
   "cell_type": "code",
   "execution_count": 5,
   "metadata": {},
   "outputs": [],
   "source": [
    "data = clean_and_scale(df)"
   ]
  },
  {
   "cell_type": "code",
   "execution_count": 6,
   "metadata": {},
   "outputs": [
    {
     "data": {
      "text/plain": [
       "array([[0.23950492, 0.25761933, 0.21933581, 0.2237905 , 1.        ],\n",
       "       [0.22189629, 0.21121072, 0.21790398, 0.19933957, 0.24356559],\n",
       "       [0.2106806 , 0.21783771, 0.2197984 , 0.2237905 , 0.1051679 ],\n",
       "       ...,\n",
       "       [0.62070579, 0.59707862, 0.66836723, 0.6078851 , 0.0146749 ],\n",
       "       [0.6188705 , 0.5936424 , 0.65888415, 0.60148486, 0.0252436 ],\n",
       "       [0.61305873, 0.58971529, 0.6565712 , 0.59488461, 0.02571836]])"
      ]
     },
     "execution_count": 6,
     "metadata": {},
     "output_type": "execute_result"
    }
   ],
   "source": [
    "data"
   ]
  },
  {
   "cell_type": "markdown",
   "metadata": {},
   "source": [
    "### We then do a train test split"
   ]
  },
  {
   "cell_type": "code",
   "execution_count": 7,
   "metadata": {},
   "outputs": [],
   "source": [
    "train_set, test_set = train_test_split(data, train_size=0.75, test_size=0.25, shuffle=False)"
   ]
  },
  {
   "cell_type": "markdown",
   "metadata": {},
   "source": [
    "### We now want to reshape the data for the LSTM model"
   ]
  },
  {
   "cell_type": "markdown",
   "metadata": {},
   "source": [
    "#### We first build a time series for the number of time steps"
   ]
  },
  {
   "cell_type": "code",
   "execution_count": 8,
   "metadata": {},
   "outputs": [],
   "source": [
    "TIME_STEPS = 3\n",
    "BATCH_SIZE = 20"
   ]
  },
  {
   "cell_type": "code",
   "execution_count": 9,
   "metadata": {},
   "outputs": [],
   "source": [
    "train_ts = build_timeseries(train_set, 3, TIME_STEPS, 'train')\n",
    "test_ts = build_timeseries(test_set, 3, TIME_STEPS, 'test')"
   ]
  },
  {
   "cell_type": "code",
   "execution_count": 10,
   "metadata": {},
   "outputs": [
    {
     "data": {
      "text/plain": [
       "array([[[0.23950492, 0.25761933, 0.21933581, 0.2237905 , 1.        ],\n",
       "        [0.22189629, 0.21121072, 0.21790398, 0.19933957, 0.24356559],\n",
       "        [0.2106806 , 0.21783771, 0.2197984 , 0.2237905 , 0.1051679 ]],\n",
       "\n",
       "       [[0.22189629, 0.21121072, 0.21790398, 0.19933957, 0.24356559],\n",
       "        [0.2106806 , 0.21783771, 0.2197984 , 0.2237905 , 0.1051679 ],\n",
       "        [0.21885786, 0.21532436, 0.21933581, 0.19678948, 0.09553893]],\n",
       "\n",
       "       [[0.2106806 , 0.21783771, 0.2197984 , 0.2237905 , 0.1051679 ],\n",
       "        [0.21885786, 0.21532436, 0.21933581, 0.19678948, 0.09553893],\n",
       "        [0.20249315, 0.20416156, 0.21933581, 0.20393975, 0.07743422]],\n",
       "\n",
       "       ...,\n",
       "\n",
       "       [[0.22695354, 0.22057687, 0.2460779 , 0.22508055, 0.10288199],\n",
       "        [0.22912531, 0.21866241, 0.24363278, 0.2210704 , 0.09403059],\n",
       "        [0.22598492, 0.22200045, 0.24486636, 0.22741064, 0.13428407]],\n",
       "\n",
       "       [[0.22912531, 0.21866241, 0.24363278, 0.2210704 , 0.09403059],\n",
       "        [0.22598492, 0.22200045, 0.24486636, 0.22741064, 0.13428407],\n",
       "        [0.23936217, 0.23831759, 0.25999965, 0.23909109, 0.22704753]],\n",
       "\n",
       "       [[0.22598492, 0.22200045, 0.24486636, 0.22741064, 0.13428407],\n",
       "        [0.23936217, 0.23831759, 0.25999965, 0.23909109, 0.22704753],\n",
       "        [0.24306335, 0.23393886, 0.26058339, 0.23438091, 0.10793114]]])"
      ]
     },
     "execution_count": 10,
     "metadata": {},
     "output_type": "execute_result"
    }
   ],
   "source": [
    "train_ts"
   ]
  },
  {
   "cell_type": "code",
   "execution_count": 11,
   "metadata": {},
   "outputs": [
    {
     "data": {
      "text/plain": [
       "array([0.2395211 , 0.23847106, 0.24424128, ..., 0.6078851 , 0.60148486,\n",
       "       0.59488461])"
      ]
     },
     "execution_count": 11,
     "metadata": {},
     "output_type": "execute_result"
    }
   ],
   "source": [
    "test_ts"
   ]
  },
  {
   "cell_type": "markdown",
   "metadata": {},
   "source": [
    "#### We then want to trim the time series to make sure it will fit the batch size correctly"
   ]
  },
  {
   "cell_type": "code",
   "execution_count": 12,
   "metadata": {},
   "outputs": [],
   "source": [
    "train_trimmed = trim_dataset(train_ts, BATCH_SIZE)\n",
    "test_trimmed = trim_dataset(test_ts, BATCH_SIZE)"
   ]
  },
  {
   "cell_type": "code",
   "execution_count": 13,
   "metadata": {},
   "outputs": [
    {
     "data": {
      "text/plain": [
       "(3380, 3, 5)"
      ]
     },
     "execution_count": 13,
     "metadata": {},
     "output_type": "execute_result"
    }
   ],
   "source": [
    "train_trimmed.shape"
   ]
  },
  {
   "cell_type": "code",
   "execution_count": 14,
   "metadata": {},
   "outputs": [
    {
     "data": {
      "text/plain": [
       "(1120,)"
      ]
     },
     "execution_count": 14,
     "metadata": {},
     "output_type": "execute_result"
    }
   ],
   "source": [
    "test_trimmed.shape"
   ]
  },
  {
   "cell_type": "markdown",
   "metadata": {},
   "source": [
    "### We now want to create a validation set of equal size as test set"
   ]
  },
  {
   "cell_type": "code",
   "execution_count": 15,
   "metadata": {},
   "outputs": [],
   "source": [
    "val_set, test_set = np.split(test_trimmed, 2)"
   ]
  },
  {
   "cell_type": "code",
   "execution_count": 18,
   "metadata": {},
   "outputs": [
    {
     "data": {
      "text/plain": [
       "(560,)"
      ]
     },
     "execution_count": 18,
     "metadata": {},
     "output_type": "execute_result"
    }
   ],
   "source": [
    "val_set.shape"
   ]
  },
  {
   "cell_type": "code",
   "execution_count": 19,
   "metadata": {},
   "outputs": [
    {
     "data": {
      "text/plain": [
       "(560,)"
      ]
     },
     "execution_count": 19,
     "metadata": {},
     "output_type": "execute_result"
    }
   ],
   "source": [
    "test_set.shape"
   ]
  },
  {
   "cell_type": "markdown",
   "metadata": {},
   "source": [
    "## We now have out train, validation, and test set!"
   ]
  },
  {
   "cell_type": "markdown",
   "metadata": {},
   "source": [
    "## The preprocessing pipeline function combines the whole process!!"
   ]
  },
  {
   "cell_type": "code",
   "execution_count": 20,
   "metadata": {},
   "outputs": [],
   "source": [
    "data = clean_and_scale(df)\n",
    "pr_train_set, pr_val_set, pr_test_set = preproc_pipeline(data, TIME_STEPS, BATCH_SIZE)"
   ]
  },
  {
   "cell_type": "code",
   "execution_count": 21,
   "metadata": {},
   "outputs": [
    {
     "name": "stdout",
     "output_type": "stream",
     "text": [
      "(3380, 3, 5)\n",
      "(560,)\n",
      "(560,)\n"
     ]
    }
   ],
   "source": [
    "print(pr_train_set.shape)\n",
    "print(pr_val_set.shape)\n",
    "print(pr_test_set.shape)"
   ]
  },
  {
   "cell_type": "code",
   "execution_count": null,
   "metadata": {},
   "outputs": [],
   "source": []
  }
 ],
 "metadata": {
  "kernelspec": {
   "display_name": "Python 3",
   "language": "python",
   "name": "python3"
  },
  "language_info": {
   "codemirror_mode": {
    "name": "ipython",
    "version": 3
   },
   "file_extension": ".py",
   "mimetype": "text/x-python",
   "name": "python",
   "nbconvert_exporter": "python",
   "pygments_lexer": "ipython3",
   "version": "3.7.3"
  }
 },
 "nbformat": 4,
 "nbformat_minor": 2
}
